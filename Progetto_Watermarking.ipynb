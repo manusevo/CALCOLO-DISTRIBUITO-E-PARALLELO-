{
  "nbformat": 4,
  "nbformat_minor": 0,
  "metadata": {
    "colab": {
      "name": "Progetto Watermarking.ipynb",
      "provenance": [],
      "collapsed_sections": [],
      "include_colab_link": true
    },
    "kernelspec": {
      "display_name": "Python 3",
      "name": "python3"
    },
    "language_info": {
      "name": "python"
    }
  },
  "cells": [
    {
      "cell_type": "markdown",
      "metadata": {
        "id": "view-in-github",
        "colab_type": "text"
      },
      "source": [
        "<a href=\"https://colab.research.google.com/github/manusevo/CALCOLO-DISTRIBUITO-E-PARALLELO-/blob/master/Progetto_Watermarking.ipynb\" target=\"_parent\"><img src=\"https://colab.research.google.com/assets/colab-badge.svg\" alt=\"Open In Colab\"/></a>"
      ]
    },
    {
      "cell_type": "markdown",
      "metadata": {
        "id": "9TIKzA3EWSyH"
      },
      "source": [
        "pip install per generare il QRCODE"
      ]
    },
    {
      "cell_type": "code",
      "metadata": {
        "id": "y3SpjRePljDJ",
        "colab": {
          "base_uri": "https://localhost:8080/"
        },
        "outputId": "cfba5a6b-db00-41d8-8f93-79bee09f0f3e"
      },
      "source": [
        "from google.colab import drive\n",
        "drive.mount('/content/drive',force_remount=True)"
      ],
      "execution_count": null,
      "outputs": [
        {
          "output_type": "stream",
          "text": [
            "Mounted at /content/drive\n"
          ],
          "name": "stdout"
        }
      ]
    },
    {
      "cell_type": "code",
      "metadata": {
        "id": "dzToeub5cumZ",
        "colab": {
          "base_uri": "https://localhost:8080/"
        },
        "outputId": "25ced8b8-8744-4388-d5a1-beb7b5973a36"
      },
      "source": [
        "!pip install qrcode[pil]"
      ],
      "execution_count": null,
      "outputs": [
        {
          "output_type": "stream",
          "text": [
            "Collecting qrcode[pil]\n",
            "  Downloading https://files.pythonhosted.org/packages/42/87/4a3a77e59ab7493d64da1f69bf1c2e899a4cf81e51b2baa855e8cc8115be/qrcode-6.1-py2.py3-none-any.whl\n",
            "Requirement already satisfied: six in /usr/local/lib/python3.7/dist-packages (from qrcode[pil]) (1.15.0)\n",
            "Requirement already satisfied: pillow; extra == \"pil\" in /usr/local/lib/python3.7/dist-packages (from qrcode[pil]) (7.1.2)\n",
            "Installing collected packages: qrcode\n",
            "Successfully installed qrcode-6.1\n"
          ],
          "name": "stdout"
        }
      ]
    },
    {
      "cell_type": "code",
      "metadata": {
        "id": "pQILpSEJt795"
      },
      "source": [
        "#percorsi delle varie immagini per rendere il codice più pulito\n",
        "root = \"/content/drive/MyDrive/Progetto Watermarking/Immagini/\""
      ],
      "execution_count": null,
      "outputs": []
    },
    {
      "cell_type": "code",
      "metadata": {
        "id": "kvo_oy0ZAQdh"
      },
      "source": [
        "ImgOriginale = \"Roma.png\"\n",
        "ImgMarchio = \"imgwatermarking.png\""
      ],
      "execution_count": null,
      "outputs": []
    },
    {
      "cell_type": "markdown",
      "metadata": {
        "id": "7Gd8pNvvSMBj"
      },
      "source": [
        "Calcolo PSNR immagine originale ed immagine con il QR code dentro:"
      ]
    },
    {
      "cell_type": "code",
      "metadata": {
        "id": "Nltfpj4GF8Mz"
      },
      "source": [
        "# importo librerie per calcolo PSNR\n",
        "from math import log10, sqrt, inf\n",
        "import cv2\n",
        "import numpy as np\n",
        " \n",
        "#definisco la funzione per il calcolo\n",
        "def PSNR(original, compressed):\n",
        "    original = cv2.imread(original, cv2.IMREAD_UNCHANGED) #inserire l'immagine origianle da confrontare\n",
        "    compressed = cv2.imread(compressed, cv2.IMREAD_UNCHANGED) #inserire l'immagine \"modificata\" (che include il QRCODE)\n",
        "    mse = np.mean((original - compressed) ** 2)\n",
        "    if(mse == 0):  # MSE is zero means no noise is present in the signal .\n",
        "                   # Therefore PSNR have no importance.\n",
        "        return inf #se l'immagine è \"perfetta\"\n",
        "    max_pixel = 255.0\n",
        "    psnr = 20 * log10(max_pixel / sqrt(mse))\n",
        "    return psnr # valore di ritorno del PSNR"
      ],
      "execution_count": null,
      "outputs": []
    },
    {
      "cell_type": "code",
      "metadata": {
        "id": "Y_JPGUE2c9uA",
        "colab": {
          "base_uri": "https://localhost:8080/",
          "height": 142
        },
        "outputId": "ea04e0d8-4623-447b-9faf-146700b250fc"
      },
      "source": [
        "import qrcode\n",
        "border = 0 \n",
        "box = 5\n",
        "ver = 1\n",
        "qr = qrcode.QRCode(\n",
        "    version=ver,\n",
        "    error_correction=qrcode.constants.ERROR_CORRECT_H,\n",
        "    box_size=box,\n",
        "    border=border,\n",
        ")\n",
        "qr.add_data(\"www.google.it/\")#Assegnamo le info che deve contenere il qrcode\n",
        "qr.make(fit=True)\n",
        "imgQr = qr.make_image(fill_color=\"black\", back_color=\"white\")\n",
        "imgQr.save(root+\"qrcode.png\") #salvo il qrcode\n",
        "imgQr # visualizzo il qrcode"
      ],
      "execution_count": null,
      "outputs": [
        {
          "output_type": "execute_result",
          "data": {
            "image/png": "[encoded data removed]",
            "text/plain": [
              "<qrcode.image.pil.PilImage at 0x7f1b28a98dd0>"
            ]
          },
          "metadata": {
            "tags": []
          },
          "execution_count": 91
        }
      ]
    },
    {
      "cell_type": "code",
      "metadata": {
        "id": "ysW3Si68dzRO",
        "colab": {
          "base_uri": "https://localhost:8080/"
        },
        "outputId": "a015a659-c991-4522-fc43-2f28415f7dc3"
      },
      "source": [
        "from PIL import Image\n",
        "from numpy import array\n",
        "#conversione qrcode to array di valori numerici\n",
        "im_1 = Image.open(root+\"qrcode.png\") # vado ad aprire l'immagine contentente il qr\n",
        "ar = array(im_1).astype(int)\n",
        "ar #visualizzo l'array che descrive il qr"
      ],
      "execution_count": null,
      "outputs": [
        {
          "output_type": "execute_result",
          "data": {
            "text/plain": [
              "array([[0, 0, 0, ..., 0, 0, 0],\n",
              "       [0, 0, 0, ..., 0, 0, 0],\n",
              "       [0, 0, 0, ..., 0, 0, 0],\n",
              "       ...,\n",
              "       [0, 0, 0, ..., 0, 0, 0],\n",
              "       [0, 0, 0, ..., 0, 0, 0],\n",
              "       [0, 0, 0, ..., 0, 0, 0]])"
            ]
          },
          "metadata": {
            "tags": []
          },
          "execution_count": 92
        }
      ]
    },
    {
      "cell_type": "code",
      "metadata": {
        "id": "8Eb_klsKg3hJ",
        "colab": {
          "base_uri": "https://localhost:8080/"
        },
        "outputId": "1cac64a1-c771-4a74-8d98-6b52ce536d80"
      },
      "source": [
        "# importing libraries\n",
        "from google.colab.patches import cv2_imshow\n",
        "import cv2\n",
        "import numpy as np\n",
        "from matplotlib import pyplot as plt\n",
        "# reading the image data from desired directory\n",
        "img = cv2.imread(root+'qrcode.png', cv2.IMREAD_UNCHANGED)\n",
        "\n",
        "#conto il numero dei pixel\n",
        "number_of_white_pix = np.sum(img == 255)\n",
        "number_of_black_pix = np.sum(img == 0)\n",
        "#stampo i numeri dei pixel (compresi i bordi)\n",
        "print('Number of white pixels:', number_of_white_pix)\n",
        "print('Number of black pixels:', number_of_black_pix)"
      ],
      "execution_count": null,
      "outputs": [
        {
          "output_type": "stream",
          "text": [
            "Number of white pixels: 7225\n",
            "Number of black pixels: 8400\n"
          ],
          "name": "stdout"
        }
      ]
    },
    {
      "cell_type": "code",
      "metadata": {
        "id": "wJE6w_JpH68b",
        "colab": {
          "base_uri": "https://localhost:8080/"
        },
        "outputId": "56f8ee5f-7ef2-43dd-8cdd-87c558199f58"
      },
      "source": [
        "number_of_black_pix = 0\n",
        "number_of_white_pix = 0\n",
        "for i in range(border,(len(ar)-border)):\n",
        "  for j in range(border,(len(ar)-border)):\n",
        "    if ar[i,j] == 1:\n",
        "      number_of_white_pix += 1\n",
        "    else:\n",
        "      number_of_black_pix += 1\n",
        "#stampo i numeri dei pixel ESCLUDENDO i bordi\n",
        "print('Number of white pixels:', number_of_white_pix)\n",
        "print('Number of black pixels:', number_of_black_pix)"
      ],
      "execution_count": null,
      "outputs": [
        {
          "output_type": "stream",
          "text": [
            "Number of white pixels: 7225\n",
            "Number of black pixels: 8400\n"
          ],
          "name": "stdout"
        }
      ]
    },
    {
      "cell_type": "code",
      "metadata": {
        "id": "RnJyIuISl9qs",
        "colab": {
          "base_uri": "https://localhost:8080/"
        },
        "outputId": "04ba0ddf-2c37-4324-fdb1-54b369e81225"
      },
      "source": [
        "#dimensione qrcode\n",
        "from PIL import Image\n",
        "im = Image.open(root+'qrcode.png')\n",
        "#stampo la dimensione del qr\n",
        "print(im.size)\n",
        "print(type(im.size))"
      ],
      "execution_count": null,
      "outputs": [
        {
          "output_type": "stream",
          "text": [
            "(125, 125)\n",
            "<class 'tuple'>\n"
          ],
          "name": "stdout"
        }
      ]
    },
    {
      "cell_type": "code",
      "metadata": {
        "id": "5ChvnHqupO-X",
        "colab": {
          "base_uri": "https://localhost:8080/",
          "height": 269
        },
        "outputId": "d8ca465c-3754-41b0-96eb-5295625d7bae"
      },
      "source": [
        "# importing libraries\n",
        "from google.colab.patches import cv2_imshow\n",
        "import cv2\n",
        "import numpy as np\n",
        "from matplotlib import pyplot as plt\n",
        "# reading the image data from desired directory\n",
        "img = cv2.imread(root+ImgOriginale, cv2.IMREAD_UNCHANGED)\n",
        "#stampa il grafico dell'immagine\n",
        "plt.imshow(img)\n",
        "plt.show()"
      ],
      "execution_count": null,
      "outputs": [
        {
          "output_type": "display_data",
          "data": {
            "image/png": "[encoded data removed]",
            "text/plain": [
              "<Figure size 432x288 with 1 Axes>"
            ]
          },
          "metadata": {
            "tags": [],
            "needs_background": "light"
          }
        }
      ]
    },
    {
      "cell_type": "code",
      "metadata": {
        "id": "XZmRYG6ZsXeZ",
        "colab": {
          "base_uri": "https://localhost:8080/"
        },
        "outputId": "edb27d56-473a-4abe-f41d-44258ac0f81a"
      },
      "source": [
        "#dimensione immagine\n",
        "from PIL import Image\n",
        "from numpy import array\n",
        "im = Image.open(root+ImgOriginale) # apro l'immagine di Roma \n",
        "#stampo altezza e e tipo dell'immagine\n",
        "print(im.size)\n",
        "print(type(im.size))\n",
        "\n",
        "#carico l'immagine di ROMA\n",
        "ImgRoma = im.load()\n",
        "ImgRoma"
      ],
      "execution_count": null,
      "outputs": [
        {
          "output_type": "stream",
          "text": [
            "(1080, 713)\n",
            "<class 'tuple'>\n"
          ],
          "name": "stdout"
        },
        {
          "output_type": "execute_result",
          "data": {
            "text/plain": [
              "<PixelAccess at 0x7f1b24453ed0>"
            ]
          },
          "metadata": {
            "tags": []
          },
          "execution_count": 98
        }
      ]
    },
    {
      "cell_type": "code",
      "metadata": {
        "id": "4AU_iARWu5JG",
        "colab": {
          "base_uri": "https://localhost:8080/"
        },
        "outputId": "470e5ca1-d821-41ce-81ac-7868d99b1c6e"
      },
      "source": [
        "#dimensioni qrcode\n",
        "img = Image.open(root +'qrcode.png')\n",
        " \n",
        "# calcolo le dimensioni dell'immagine contente il QRCODE\n",
        "wq = img.size[0]\n",
        "hq = img.size[1]\n",
        "print(wq)\n",
        "print(hq)\n",
        "\n",
        " \n",
        "# calcolo le dimensioni dell'immagine contente ROMA\n",
        "wg = im.size[0]\n",
        "hg = im.size[1]\n",
        "print(wg)\n",
        "print(hg)"
      ],
      "execution_count": null,
      "outputs": [
        {
          "output_type": "stream",
          "text": [
            "125\n",
            "125\n",
            "1080\n",
            "713\n"
          ],
          "name": "stdout"
        }
      ]
    },
    {
      "cell_type": "markdown",
      "metadata": {
        "id": "q0WuV_iNp60v"
      },
      "source": [
        "**----------------------------           PRIMA CODIFICA              ---------------------------------**"
      ]
    },
    {
      "cell_type": "code",
      "metadata": {
        "id": "8-KrXUKauXSV",
        "colab": {
          "base_uri": "https://localhost:8080/"
        },
        "outputId": "e26ba7e3-4256-41b9-c28d-3da59f727e0e"
      },
      "source": [
        "#importo librerie per codifica\n",
        "import random \n",
        "from sys import argv\n",
        "from qrcode import make as makeQR\n",
        "\n",
        "#creazione coordinata randomica (il meno è per non uscire dell'immagine di ROMA)\n",
        "wr = random.randint(0, (wg-wq))\n",
        "hr = random.randint(0, (hg-hq))\n",
        "\n",
        "#stampo le cordinate randomiche dove vado a inserire il QRCODE\n",
        "print(wr)\n",
        "print(hr)\n",
        "for i in range(0, wq):\n",
        "  for j in range(0, hq): \n",
        "      d = ImgRoma[wr+i,hr+j]\n",
        "      \n",
        "      #questa è prima versione\n",
        "      ImgRoma[wr+i,hr+j] = d[:-1] + ((d[-1] | 1 ) if imgQr.getpixel((i, j)) else (d[-1] & ~1),)\n",
        "im.save(root+ImgMarchio)\n"
      ],
      "execution_count": null,
      "outputs": [
        {
          "output_type": "stream",
          "text": [
            "565\n",
            "251\n"
          ],
          "name": "stdout"
        }
      ]
    },
    {
      "cell_type": "code",
      "metadata": {
        "id": "VhYnZmxyJ8i7",
        "colab": {
          "base_uri": "https://localhost:8080/"
        },
        "outputId": "016686aa-d155-4de4-9eb4-1e91a7d74304"
      },
      "source": [
        "value = PSNR(root+ImgOriginale, root+ImgMarchio)\n",
        "#stampo il risultato del calcolo del PSNR\n",
        "print(f\"PSNR value is {value} dB\")"
      ],
      "execution_count": null,
      "outputs": [
        {
          "output_type": "stream",
          "text": [
            "PSNR value is 39.67274828753811 dB\n"
          ],
          "name": "stdout"
        }
      ]
    },
    {
      "cell_type": "markdown",
      "metadata": {
        "id": "J7thIRnhSvaO"
      },
      "source": [
        "Questa è la decodifica di quando vado a lavorare sul **canale della trasparenza** (il canle in questione è ALPHA) "
      ]
    },
    {
      "cell_type": "code",
      "metadata": {
        "id": "_Mg_SUKn6qhQ"
      },
      "source": [
        "from PIL import Image\n",
        "from sys import argv\n",
        "from qrcode import make as makeQR\n",
        " \n",
        "if __name__ == '__main__':\n",
        "    im = Image.open(root+ImgMarchio)\n",
        "    \n",
        "    s = w, h = im.size\n",
        "    imd = im.load()\n",
        " \n",
        "    oim = Image.new('1',s) #crea un immagine completamente nera\n",
        "    oimd = oim.load()\n",
        " \n",
        "    for i in range(w):\n",
        "        for j in range(h):\n",
        "            d = imd[i, j] \n",
        "            oimd[i, j] = 255 * (d[-1] & 1) \n",
        "oim.save(root+'imgDecodificata.png')"
      ],
      "execution_count": null,
      "outputs": []
    },
    {
      "cell_type": "markdown",
      "metadata": {
        "id": "qzRaZMIfUG7W"
      },
      "source": [
        "Per utilità siamo andati a creare un codice che ci permette di cancellare tutte le immagini che siamo andati a creare."
      ]
    },
    {
      "cell_type": "code",
      "metadata": {
        "id": "wveLEEHpJ2hB",
        "colab": {
          "base_uri": "https://localhost:8080/"
        },
        "outputId": "b12a8223-ca1d-4df5-836e-73fc0253fb9f"
      },
      "source": [
        "#cancellare tutti i file che abbiamo creato\n",
        "import os\n",
        "check = input('vuoi cancellare? (yes)')\n",
        "if check == 'yes' :\n",
        "  try:\n",
        "      os.remove(root+'imgDecodificata.png')\n",
        "      #os.remove(root+'qrcode.png')\n",
        "      os.remove(root+'imgwatermarking.png')\n",
        "  except OSError as e:\n",
        "      print(\"Error: %s : %s\" % (root, e.strerror))"
      ],
      "execution_count": null,
      "outputs": [
        {
          "output_type": "stream",
          "text": [
            "vuoi cancellare? (yes)yes\n"
          ],
          "name": "stdout"
        }
      ]
    },
    {
      "cell_type": "markdown",
      "metadata": {
        "id": "fPjaMVohFArl"
      },
      "source": [
        "**------------------ CODIFICA 2 -----------------------**"
      ]
    },
    {
      "cell_type": "code",
      "metadata": {
        "id": "vgSA5taDEx6a",
        "colab": {
          "base_uri": "https://localhost:8080/"
        },
        "outputId": "f71c198b-77f7-4e19-e963-1a601107ec04"
      },
      "source": [
        "#conversione qrcode to array di valori numerici\n",
        "im_1 = Image.open(root+\"qrcode.png\")\n",
        "ar_come_dovrebbe_essere = array(im_1)\n",
        "ar = (array(im_1)).astype(int)\n",
        "ar #mostro l'array che ho ottenuto"
      ],
      "execution_count": null,
      "outputs": [
        {
          "output_type": "execute_result",
          "data": {
            "text/plain": [
              "array([[0, 0, 0, 0, 0, 0, 0, 1, 1, 1, 0, 0, 1, 0, 0, 0, 1, 1, 0, 0, 0, 0,\n",
              "        0, 0, 0],\n",
              "       [0, 1, 1, 1, 1, 1, 0, 1, 0, 1, 0, 0, 1, 1, 0, 1, 0, 1, 0, 1, 1, 1,\n",
              "        1, 1, 0],\n",
              "       [0, 1, 0, 0, 0, 1, 0, 1, 0, 0, 0, 1, 1, 1, 1, 0, 0, 1, 0, 1, 0, 0,\n",
              "        0, 1, 0],\n",
              "       [0, 1, 0, 0, 0, 1, 0, 1, 0, 0, 1, 0, 0, 1, 0, 0, 0, 1, 0, 1, 0, 0,\n",
              "        0, 1, 0],\n",
              "       [0, 1, 0, 0, 0, 1, 0, 1, 0, 1, 0, 1, 0, 0, 1, 0, 1, 1, 0, 1, 0, 0,\n",
              "        0, 1, 0],\n",
              "       [0, 1, 1, 1, 1, 1, 0, 1, 0, 1, 0, 0, 1, 1, 1, 0, 1, 1, 0, 1, 1, 1,\n",
              "        1, 1, 0],\n",
              "       [0, 0, 0, 0, 0, 0, 0, 1, 0, 1, 0, 1, 0, 1, 0, 1, 0, 1, 0, 0, 0, 0,\n",
              "        0, 0, 0],\n",
              "       [1, 1, 1, 1, 1, 1, 1, 1, 1, 0, 1, 0, 1, 1, 0, 0, 0, 1, 1, 1, 1, 1,\n",
              "        1, 1, 1],\n",
              "       [1, 1, 0, 1, 1, 0, 0, 0, 0, 0, 0, 0, 0, 0, 1, 0, 1, 0, 1, 0, 0, 0,\n",
              "        0, 0, 1],\n",
              "       [0, 0, 0, 1, 0, 1, 1, 1, 0, 1, 1, 1, 1, 1, 0, 1, 1, 1, 0, 0, 1, 0,\n",
              "        1, 0, 0],\n",
              "       [0, 1, 0, 1, 1, 0, 0, 1, 0, 1, 0, 0, 1, 1, 0, 1, 0, 1, 0, 0, 0, 1,\n",
              "        1, 1, 0],\n",
              "       [1, 0, 0, 0, 0, 0, 1, 1, 1, 0, 0, 1, 1, 1, 1, 0, 1, 0, 1, 0, 0, 1,\n",
              "        1, 0, 0],\n",
              "       [0, 0, 0, 1, 1, 0, 0, 1, 0, 1, 1, 0, 1, 0, 0, 0, 0, 0, 0, 0, 1, 0,\n",
              "        1, 1, 0],\n",
              "       [1, 0, 0, 1, 0, 0, 1, 1, 0, 1, 1, 0, 0, 0, 0, 1, 1, 1, 0, 0, 1, 0,\n",
              "        0, 0, 0],\n",
              "       [0, 0, 1, 0, 0, 0, 0, 0, 0, 0, 1, 1, 0, 1, 1, 0, 1, 1, 1, 1, 1, 0,\n",
              "        1, 1, 0],\n",
              "       [1, 1, 0, 0, 0, 0, 1, 0, 0, 0, 0, 0, 0, 0, 0, 0, 0, 1, 0, 0, 1, 0,\n",
              "        1, 0, 0],\n",
              "       [0, 0, 0, 0, 1, 0, 0, 1, 0, 1, 0, 1, 1, 0, 1, 1, 0, 0, 0, 0, 0, 0,\n",
              "        1, 1, 0],\n",
              "       [1, 1, 1, 1, 1, 1, 1, 1, 0, 0, 0, 1, 1, 1, 0, 1, 0, 1, 1, 1, 0, 0,\n",
              "        1, 0, 0],\n",
              "       [0, 0, 0, 0, 0, 0, 0, 1, 0, 1, 1, 0, 0, 1, 1, 1, 0, 1, 0, 1, 0, 1,\n",
              "        1, 1, 0],\n",
              "       [0, 1, 1, 1, 1, 1, 0, 1, 0, 1, 0, 0, 1, 1, 1, 1, 0, 1, 1, 1, 0, 0,\n",
              "        1, 1, 0],\n",
              "       [0, 1, 0, 0, 0, 1, 0, 1, 1, 0, 1, 0, 1, 1, 1, 0, 0, 0, 0, 0, 0, 0,\n",
              "        1, 1, 1],\n",
              "       [0, 1, 0, 0, 0, 1, 0, 1, 1, 1, 0, 1, 1, 1, 0, 1, 1, 0, 1, 1, 0, 0,\n",
              "        0, 1, 1],\n",
              "       [0, 1, 0, 0, 0, 1, 0, 1, 0, 1, 1, 0, 1, 1, 0, 1, 0, 0, 1, 1, 0, 1,\n",
              "        1, 0, 0],\n",
              "       [0, 1, 1, 1, 1, 1, 0, 1, 1, 0, 0, 1, 1, 0, 1, 0, 0, 1, 0, 0, 0, 0,\n",
              "        1, 1, 1],\n",
              "       [0, 0, 0, 0, 0, 0, 0, 1, 1, 0, 0, 0, 1, 0, 1, 1, 0, 1, 0, 1, 1, 0,\n",
              "        1, 1, 0]])"
            ]
          },
          "metadata": {
            "tags": []
          },
          "execution_count": 74
        }
      ]
    },
    {
      "cell_type": "markdown",
      "metadata": {
        "id": "38XJjSG7UeNe"
      },
      "source": [
        "encoder della secondo metodo di watermarking"
      ]
    },
    {
      "cell_type": "code",
      "metadata": {
        "id": "nibLq5gQIITj"
      },
      "source": [
        "def Encode(src, message, dest, Encode_key):\n",
        "\n",
        "    img = Image.open(src, 'r')\n",
        "    width, height = img.size\n",
        "    array = np.array(list(img.getdata()))\n",
        "\n",
        "    #controllo di che tipo di immagine andiamo a watermarcare\n",
        "    # png --> 4 canali (rgba) \n",
        "    # jpg --> 3 canali (rgb)\n",
        "    if img.mode == 'RGB': \n",
        "        n = 3\n",
        "    elif img.mode == 'RGBA':\n",
        "        n = 4\n",
        "    total_pixels = array.size//n\n",
        "\n",
        "    message += str(Encode_key)\n",
        "    b_message = ''.join([format(ord(i), \"08b\") for i in message])\n",
        "    req_pixels = len(b_message)\n",
        "    \n",
        "    if req_pixels > total_pixels:\n",
        "        print(\"ERROR: Need larger file size\")\n",
        "\n",
        "    else:\n",
        "        index=0\n",
        "        for p in range(total_pixels):\n",
        "            for q in range(0, 3):\n",
        "                if index < req_pixels:\n",
        "                    array[p][q] = int(bin(array[p][q])[2:9] + b_message[index], 2)\n",
        "                    index += 1\n",
        "\n",
        "        array=array.reshape(height, width, n)\n",
        "        enc_img = Image.fromarray(array.astype('uint8'), img.mode)\n",
        "        enc_img.save(dest)\n",
        "        print(\"Image Encoded Successfully\")"
      ],
      "execution_count": null,
      "outputs": []
    },
    {
      "cell_type": "markdown",
      "metadata": {
        "id": "ap76gC9eU38u"
      },
      "source": [
        "DECODER del secondo metodo di watermarking"
      ]
    },
    {
      "cell_type": "code",
      "metadata": {
        "id": "00IeTbC0ILFO"
      },
      "source": [
        "msg_nascosto = \"\"\n",
        "\n",
        "def Decode(src, Encode_key):\n",
        "    img = Image.open(src, 'r')\n",
        "    array = np.array(list(img.getdata()))\n",
        "    if img.mode == 'RGB':\n",
        "        n = 3\n",
        "    elif img.mode == 'RGBA':\n",
        "        n = 4\n",
        "    total_pixels = array.size//n\n",
        "    hidden_bits = \"\"\n",
        "    for p in range(total_pixels):\n",
        "        for q in range(0, 3):\n",
        "            hidden_bits += (bin(array[p][q])[2:][-1])\n",
        "\n",
        "    hidden_bits = [hidden_bits[i:i+8] for i in range(0, len(hidden_bits), 8)]\n",
        "    a = 5\n",
        "    message = \"\"\n",
        "    for i in range(len(hidden_bits)):\n",
        "        if message[-len(str(Encode_Key)):] == str(Encode_key):\n",
        "            break\n",
        "        else:\n",
        "            message += chr(int(hidden_bits[i], 2))\n",
        "    if str(Encode_key) in message:\n",
        "        print(\"Messaggio nascosto:\", message[:-len(str(Encode_Key))])\n",
        "        return message[:-len(str(Encode_Key))]\n",
        "    else:\n",
        "        print(\"No Hidden Message Found\")"
      ],
      "execution_count": null,
      "outputs": []
    },
    {
      "cell_type": "code",
      "metadata": {
        "id": "yP-zXwDrSNG7"
      },
      "source": [
        "import random\n",
        "import string\n",
        "\n",
        "def get_random_string(length):\n",
        "    # choose from all lowercase letter\n",
        "    letters = string.ascii_lowercase\n",
        "    result_str = ''.join(random.choice(letters) for i in range(length))\n",
        "    print(\"Random string of length\", length, \"is:\", result_str)\n",
        "\n",
        "    return result_str"
      ],
      "execution_count": null,
      "outputs": []
    },
    {
      "cell_type": "markdown",
      "metadata": {
        "id": "BcJE4nrVU_sx"
      },
      "source": [
        "Cella per avviare e mostrare i risultati del watermarking numero 2\n",
        "\n",
        "N.b. qui codifichiamo una stringa contente tutti 0 e 1 che poi ci permette di ricreare il QRCODE"
      ]
    },
    {
      "cell_type": "code",
      "metadata": {
        "id": "m-BAFzarIPHV",
        "colab": {
          "base_uri": "https://localhost:8080/"
        },
        "outputId": "113bae77-8b0a-4cfe-d491-9a212c3f9548"
      },
      "source": [
        "print(\"--METODO 2--\")\n",
        "src = root+ImgOriginale\n",
        "\n",
        "#metto l'array in stringa da nascondere\n",
        "message = str(ar) \n",
        "print(message)\n",
        "\n",
        "dest = (root+'seconda_decofica.png')\n",
        "print(\"Encoding...\")\n",
        "\n",
        "Encode_Key = get_random_string(6)\n",
        "Encode(src, message, dest, Encode_Key)\n",
        "\n",
        "chiave_utente = input(\"Inserisci la chiave di decodifica\")\n",
        "\n",
        "#messaggio_nascosto = Decode(dest,chiave_utente)\n"
      ],
      "execution_count": null,
      "outputs": [
        {
          "output_type": "stream",
          "text": [
            "--METODO 2--\n",
            "[[0 0 0 0 0 0 0 1 1 1 0 0 1 0 0 0 1 1 0 0 0 0 0 0 0]\n",
            " [0 1 1 1 1 1 0 1 0 1 0 0 1 1 0 1 0 1 0 1 1 1 1 1 0]\n",
            " [0 1 0 0 0 1 0 1 0 0 0 1 1 1 1 0 0 1 0 1 0 0 0 1 0]\n",
            " [0 1 0 0 0 1 0 1 0 0 1 0 0 1 0 0 0 1 0 1 0 0 0 1 0]\n",
            " [0 1 0 0 0 1 0 1 0 1 0 1 0 0 1 0 1 1 0 1 0 0 0 1 0]\n",
            " [0 1 1 1 1 1 0 1 0 1 0 0 1 1 1 0 1 1 0 1 1 1 1 1 0]\n",
            " [0 0 0 0 0 0 0 1 0 1 0 1 0 1 0 1 0 1 0 0 0 0 0 0 0]\n",
            " [1 1 1 1 1 1 1 1 1 0 1 0 1 1 0 0 0 1 1 1 1 1 1 1 1]\n",
            " [1 1 0 1 1 0 0 0 0 0 0 0 0 0 1 0 1 0 1 0 0 0 0 0 1]\n",
            " [0 0 0 1 0 1 1 1 0 1 1 1 1 1 0 1 1 1 0 0 1 0 1 0 0]\n",
            " [0 1 0 1 1 0 0 1 0 1 0 0 1 1 0 1 0 1 0 0 0 1 1 1 0]\n",
            " [1 0 0 0 0 0 1 1 1 0 0 1 1 1 1 0 1 0 1 0 0 1 1 0 0]\n",
            " [0 0 0 1 1 0 0 1 0 1 1 0 1 0 0 0 0 0 0 0 1 0 1 1 0]\n",
            " [1 0 0 1 0 0 1 1 0 1 1 0 0 0 0 1 1 1 0 0 1 0 0 0 0]\n",
            " [0 0 1 0 0 0 0 0 0 0 1 1 0 1 1 0 1 1 1 1 1 0 1 1 0]\n",
            " [1 1 0 0 0 0 1 0 0 0 0 0 0 0 0 0 0 1 0 0 1 0 1 0 0]\n",
            " [0 0 0 0 1 0 0 1 0 1 0 1 1 0 1 1 0 0 0 0 0 0 1 1 0]\n",
            " [1 1 1 1 1 1 1 1 0 0 0 1 1 1 0 1 0 1 1 1 0 0 1 0 0]\n",
            " [0 0 0 0 0 0 0 1 0 1 1 0 0 1 1 1 0 1 0 1 0 1 1 1 0]\n",
            " [0 1 1 1 1 1 0 1 0 1 0 0 1 1 1 1 0 1 1 1 0 0 1 1 0]\n",
            " [0 1 0 0 0 1 0 1 1 0 1 0 1 1 1 0 0 0 0 0 0 0 1 1 1]\n",
            " [0 1 0 0 0 1 0 1 1 1 0 1 1 1 0 1 1 0 1 1 0 0 0 1 1]\n",
            " [0 1 0 0 0 1 0 1 0 1 1 0 1 1 0 1 0 0 1 1 0 1 1 0 0]\n",
            " [0 1 1 1 1 1 0 1 1 0 0 1 1 0 1 0 0 1 0 0 0 0 1 1 1]\n",
            " [0 0 0 0 0 0 0 1 1 0 0 0 1 0 1 1 0 1 0 1 1 0 1 1 0]]\n",
            "Encoding...\n",
            "Random string of length 6 is: arifhi\n",
            "Image Encoded Successfully\n",
            "Inserisci la chiave di decodificaarifhi\n"
          ],
          "name": "stdout"
        }
      ]
    },
    {
      "cell_type": "code",
      "metadata": {
        "colab": {
          "base_uri": "https://localhost:8080/"
        },
        "id": "kNukBMWjthe1",
        "outputId": "d8166927-2658-44b2-828d-3e2d1b543963"
      },
      "source": [
        "messaggio_nascosto = Decode(dest,chiave_utente)"
      ],
      "execution_count": null,
      "outputs": [
        {
          "output_type": "stream",
          "text": [
            "Messaggio nascosto: [[0 0 0 0 0 0 0 1 1 1 0 0 1 0 0 0 1 1 0 0 0 0 0 0 0]\n",
            " [0 1 1 1 1 1 0 1 0 1 0 0 1 1 0 1 0 1 0 1 1 1 1 1 0]\n",
            " [0 1 0 0 0 1 0 1 0 0 0 1 1 1 1 0 0 1 0 1 0 0 0 1 0]\n",
            " [0 1 0 0 0 1 0 1 0 0 1 0 0 1 0 0 0 1 0 1 0 0 0 1 0]\n",
            " [0 1 0 0 0 1 0 1 0 1 0 1 0 0 1 0 1 1 0 1 0 0 0 1 0]\n",
            " [0 1 1 1 1 1 0 1 0 1 0 0 1 1 1 0 1 1 0 1 1 1 1 1 0]\n",
            " [0 0 0 0 0 0 0 1 0 1 0 1 0 1 0 1 0 1 0 0 0 0 0 0 0]\n",
            " [1 1 1 1 1 1 1 1 1 0 1 0 1 1 0 0 0 1 1 1 1 1 1 1 1]\n",
            " [1 1 0 1 1 0 0 0 0 0 0 0 0 0 1 0 1 0 1 0 0 0 0 0 1]\n",
            " [0 0 0 1 0 1 1 1 0 1 1 1 1 1 0 1 1 1 0 0 1 0 1 0 0]\n",
            " [0 1 0 1 1 0 0 1 0 1 0 0 1 1 0 1 0 1 0 0 0 1 1 1 0]\n",
            " [1 0 0 0 0 0 1 1 1 0 0 1 1 1 1 0 1 0 1 0 0 1 1 0 0]\n",
            " [0 0 0 1 1 0 0 1 0 1 1 0 1 0 0 0 0 0 0 0 1 0 1 1 0]\n",
            " [1 0 0 1 0 0 1 1 0 1 1 0 0 0 0 1 1 1 0 0 1 0 0 0 0]\n",
            " [0 0 1 0 0 0 0 0 0 0 1 1 0 1 1 0 1 1 1 1 1 0 1 1 0]\n",
            " [1 1 0 0 0 0 1 0 0 0 0 0 0 0 0 0 0 1 0 0 1 0 1 0 0]\n",
            " [0 0 0 0 1 0 0 1 0 1 0 1 1 0 1 1 0 0 0 0 0 0 1 1 0]\n",
            " [1 1 1 1 1 1 1 1 0 0 0 1 1 1 0 1 0 1 1 1 0 0 1 0 0]\n",
            " [0 0 0 0 0 0 0 1 0 1 1 0 0 1 1 1 0 1 0 1 0 1 1 1 0]\n",
            " [0 1 1 1 1 1 0 1 0 1 0 0 1 1 1 1 0 1 1 1 0 0 1 1 0]\n",
            " [0 1 0 0 0 1 0 1 1 0 1 0 1 1 1 0 0 0 0 0 0 0 1 1 1]\n",
            " [0 1 0 0 0 1 0 1 1 1 0 1 1 1 0 1 1 0 1 1 0 0 0 1 1]\n",
            " [0 1 0 0 0 1 0 1 0 1 1 0 1 1 0 1 0 0 1 1 0 1 1 0 0]\n",
            " [0 1 1 1 1 1 0 1 1 0 0 1 1 0 1 0 0 1 0 0 0 0 1 1 1]\n",
            " [0 0 0 0 0 0 0 1 1 0 0 0 1 0 1 1 0 1 0 1 1 0 1 1 0]]\n"
          ],
          "name": "stdout"
        }
      ]
    },
    {
      "cell_type": "markdown",
      "metadata": {
        "id": "rLVNQGPgViRx"
      },
      "source": [
        "Dalla stringa si torna all'array "
      ]
    },
    {
      "cell_type": "code",
      "metadata": {
        "id": "7oeQjx0CHepi",
        "colab": {
          "base_uri": "https://localhost:8080/"
        },
        "outputId": "f4efc3aa-a993-42c2-fa6a-f4bf7e610a2d"
      },
      "source": [
        "import numpy as np\n",
        "\n",
        "messaggio_split = messaggio_nascosto.split()\n",
        "messaggio_split\n",
        "print(len(messaggio_split))\n",
        "print(messaggio_split[0])\n",
        "\n",
        "array_per_immagine1 = []\n",
        "for i in range(0, len(messaggio_split)):\n",
        "  if (messaggio_split[i].startswith(\"1\") or messaggio_split[i].endswith(\"1\")):\n",
        "    array_per_immagine1.append(1)\n",
        "  elif (messaggio_split[i].startswith(\"0\") or messaggio_split[i].endswith(\"0\")):\n",
        "    array_per_immagine1.append(0)\n",
        "\n",
        "array = np.array(array_per_immagine1)\n",
        "print(array.size)\n",
        "array_reshape = (array).reshape(wq,-1)\n",
        "print(array_reshape)\n",
        "array_reshape = np.pad(array_reshape, pad_width=1, mode='constant', constant_values=1)\n",
        "#array_reshape"
      ],
      "execution_count": null,
      "outputs": [
        {
          "output_type": "stream",
          "text": [
            "625\n",
            "[[0\n",
            "625\n",
            "[[0 0 0 0 0 0 0 1 1 1 0 0 1 0 0 0 1 1 0 0 0 0 0 0 0]\n",
            " [0 1 1 1 1 1 0 1 0 1 0 0 1 1 0 1 0 1 0 1 1 1 1 1 0]\n",
            " [0 1 0 0 0 1 0 1 0 0 0 1 1 1 1 0 0 1 0 1 0 0 0 1 0]\n",
            " [0 1 0 0 0 1 0 1 0 0 1 0 0 1 0 0 0 1 0 1 0 0 0 1 0]\n",
            " [0 1 0 0 0 1 0 1 0 1 0 1 0 0 1 0 1 1 0 1 0 0 0 1 0]\n",
            " [0 1 1 1 1 1 0 1 0 1 0 0 1 1 1 0 1 1 0 1 1 1 1 1 0]\n",
            " [0 0 0 0 0 0 0 1 0 1 0 1 0 1 0 1 0 1 0 0 0 0 0 0 0]\n",
            " [1 1 1 1 1 1 1 1 1 0 1 0 1 1 0 0 0 1 1 1 1 1 1 1 1]\n",
            " [1 1 0 1 1 0 0 0 0 0 0 0 0 0 1 0 1 0 1 0 0 0 0 0 1]\n",
            " [0 0 0 1 0 1 1 1 0 1 1 1 1 1 0 1 1 1 0 0 1 0 1 0 0]\n",
            " [0 1 0 1 1 0 0 1 0 1 0 0 1 1 0 1 0 1 0 0 0 1 1 1 0]\n",
            " [1 0 0 0 0 0 1 1 1 0 0 1 1 1 1 0 1 0 1 0 0 1 1 0 0]\n",
            " [0 0 0 1 1 0 0 1 0 1 1 0 1 0 0 0 0 0 0 0 1 0 1 1 0]\n",
            " [1 0 0 1 0 0 1 1 0 1 1 0 0 0 0 1 1 1 0 0 1 0 0 0 0]\n",
            " [0 0 1 0 0 0 0 0 0 0 1 1 0 1 1 0 1 1 1 1 1 0 1 1 0]\n",
            " [1 1 0 0 0 0 1 0 0 0 0 0 0 0 0 0 0 1 0 0 1 0 1 0 0]\n",
            " [0 0 0 0 1 0 0 1 0 1 0 1 1 0 1 1 0 0 0 0 0 0 1 1 0]\n",
            " [1 1 1 1 1 1 1 1 0 0 0 1 1 1 0 1 0 1 1 1 0 0 1 0 0]\n",
            " [0 0 0 0 0 0 0 1 0 1 1 0 0 1 1 1 0 1 0 1 0 1 1 1 0]\n",
            " [0 1 1 1 1 1 0 1 0 1 0 0 1 1 1 1 0 1 1 1 0 0 1 1 0]\n",
            " [0 1 0 0 0 1 0 1 1 0 1 0 1 1 1 0 0 0 0 0 0 0 1 1 1]\n",
            " [0 1 0 0 0 1 0 1 1 1 0 1 1 1 0 1 1 0 1 1 0 0 0 1 1]\n",
            " [0 1 0 0 0 1 0 1 0 1 1 0 1 1 0 1 0 0 1 1 0 1 1 0 0]\n",
            " [0 1 1 1 1 1 0 1 1 0 0 1 1 0 1 0 0 1 0 0 0 0 1 1 1]\n",
            " [0 0 0 0 0 0 0 1 1 0 0 0 1 0 1 1 0 1 0 1 1 0 1 1 0]]\n"
          ],
          "name": "stdout"
        }
      ]
    },
    {
      "cell_type": "code",
      "metadata": {
        "id": "Tm63KdqEKm1b",
        "colab": {
          "base_uri": "https://localhost:8080/",
          "height": 44
        },
        "outputId": "be601edf-d686-415c-d54c-2902c958545d"
      },
      "source": [
        "#creazione del QRCODE partendo da un array di 0 e 1 \n",
        "new_image = Image.fromarray((array_reshape * 255).astype(np.uint8))\n",
        "new_image.save(root+\"QR-Stego.png\")\n",
        "new_image\n"
      ],
      "execution_count": null,
      "outputs": [
        {
          "output_type": "execute_result",
          "data": {
            "image/png": "[encoded data removed]",
            "text/plain": [
              "<PIL.Image.Image image mode=L size=27x27 at 0x7F1B242331D0>"
            ]
          },
          "metadata": {
            "tags": []
          },
          "execution_count": 85
        }
      ]
    },
    {
      "cell_type": "markdown",
      "metadata": {
        "id": "UojVAQSxVzkb"
      },
      "source": [
        "PSNR della seconda codifica"
      ]
    },
    {
      "cell_type": "code",
      "metadata": {
        "id": "4iHEW3mLKbPG",
        "colab": {
          "base_uri": "https://localhost:8080/"
        },
        "outputId": "6d542d9d-bc88-4865-ca41-6fecd58bb7eb"
      },
      "source": [
        "value = PSNR(root+ImgOriginale, dest)\n",
        "print(f\"PSNR value is {value} dB\")"
      ],
      "execution_count": null,
      "outputs": [
        {
          "output_type": "stream",
          "text": [
            "PSNR value is 75.69984305706052 dB\n"
          ],
          "name": "stdout"
        }
      ]
    },
    {
      "cell_type": "markdown",
      "metadata": {
        "id": "bvuzwNC6Lfw5"
      },
      "source": [
        "----------------------------------------------------------------------------------------------------------------------------------------------------------------"
      ]
    },
    {
      "cell_type": "markdown",
      "metadata": {
        "id": "hCbRWJ9ALjJx"
      },
      "source": [
        "TERZO METODO: vado a controllare se un immagine dispone del canale di trasparenza oppure no. <br>\n",
        "Dopo di che vado a modificare sequenzialmente tutti i canali R G B (se presente) A"
      ]
    },
    {
      "cell_type": "code",
      "metadata": {
        "id": "WyJnG8esZPcN",
        "colab": {
          "base_uri": "https://localhost:8080/"
        },
        "outputId": "d04c169c-f36c-43fe-d7b1-5879b381baf8"
      },
      "source": [
        "#check della presenza della trasparenza \n",
        "import imghdr\n",
        "imghdr.what(root+ImgOriginale)\n",
        "if imghdr.what(root+ImgOriginale) == 'png':\n",
        "  alpha = True\n",
        "else: \n",
        " alpha = False\n",
        "\n",
        "print(alpha)"
      ],
      "execution_count": null,
      "outputs": [
        {
          "output_type": "stream",
          "text": [
            "True\n"
          ],
          "name": "stdout"
        }
      ]
    },
    {
      "cell_type": "code",
      "metadata": {
        "id": "5OuYbPyiMKNb",
        "colab": {
          "base_uri": "https://localhost:8080/"
        },
        "outputId": "ccddfe44-f482-4611-b0c6-11dd3c2cf844"
      },
      "source": [
        "#creazione coordinata randomica \n",
        "import random \n",
        "from sys import argv\n",
        "from qrcode import make as makeQR\n",
        "wr =random.randint(0, (wg-wq))\n",
        "hr =random.randint(0, (hg-hq))\n",
        "#wr = 0 #hr = 0\n",
        "print(wr)\n",
        "print(hr)\n",
        "print(im.size)\n",
        "c=0\n",
        "if alpha:\n",
        "  Ncanali = 4\n",
        "  for i in range(wq):#wq\n",
        "    for j in range(hq): #hq\n",
        "      \n",
        "        d = ImgRoma[wr+i,hr+j]\n",
        "        \n",
        "        if c%Ncanali == 0: #modifico il rosso\n",
        "          if d[0]==0:\n",
        "            ImgRoma[wr+i,hr+j] = ((d[-4]) if imgQr.getpixel((i, j)) else (d[-4] +1),)+ d[-3:]\n",
        "          else: \n",
        "            ImgRoma[wr+i,hr+j] = ((d[-4]) if imgQr.getpixel((i, j)) else (d[-4] -1),)+ d[-3:]\n",
        "        elif c%Ncanali == 1: #modifico il verde\n",
        "          if d[1]==0:\n",
        "            ImgRoma[wr+i,hr+j] = (d[:-3])+((d[-3]) if imgQr.getpixel((i, j)) else (d[-3] +1),)+ d[-2:]\n",
        "          else: \n",
        "            ImgRoma[wr+i,hr+j] = (d[:-3])+((d[-3]) if imgQr.getpixel((i, j)) else (d[-3] -1),)+ d[-2:]\n",
        "        elif c%Ncanali == 2: #modifico il blu\n",
        "          if d[2]==0:\n",
        "            ImgRoma[wr+i,hr+j] = (d[:-2])+((d[-2]) if imgQr.getpixel((i, j)) else (d[-2] +1),)+ d[-1:]\n",
        "          else: \n",
        "            ImgRoma[wr+i,hr+j] = (d[:-2])+((d[-2]) if imgQr.getpixel((i, j)) else (d[-2] -1),)+ d[-1:]\n",
        "        elif c%Ncanali == 3: #modifico alpha\n",
        "          ImgRoma[wr+i,hr+j] = d[:-1] + ((d[-1] | 1 ) if imgQr.getpixel((i, j)) else (d[-1] & ~1),)\n",
        "        c = c + 1\n",
        "else:\n",
        "  Ncanali = 3\n",
        "  for i in range(wq):#wq\n",
        "    for j in range(hq): #hq\n",
        "\n",
        "        d = ImgRoma[wr+i,hr+j]\n",
        "        if c%Ncanali == 0: #modifico il rosso \n",
        "          if d[0]==0:\n",
        "            ImgRoma[wr+i,hr+j] = ((d[0]) if imgQr.getpixel((i, j)) else (d[0] + 1),)+ d[-2:]\n",
        "          else:\n",
        "            ImgRoma[wr+i,hr+j] = ((d[0]) if imgQr.getpixel((i, j)) else (d[0] - 1),)+ d[-2:]\n",
        "        elif c%Ncanali == 1: #modifico il verde\n",
        "          if d[1]==0:\n",
        "            ImgRoma[wr+i,hr+j] = d[:-2]+((d[1]) if imgQr.getpixel((i, j)) else (d[1] + 1),)+ d[-1:]\n",
        "          else:\n",
        "            ImgRoma[wr+i,hr+j] = d[:-2]+((d[1]) if imgQr.getpixel((i, j)) else (d[1] - 1),)+ d[-1:]\n",
        "        elif c%Ncanali == 2: #modifico il blu\n",
        "          if d[2]==0:\n",
        "            ImgRoma[wr+i,hr+j] = d[:-1] + ((d[2]) if imgQr.getpixel((i, j)) else (d[2] + 1),)\n",
        "          else:\n",
        "            ImgRoma[wr+i,hr+j] = d[:-1] + ((d[2]) if imgQr.getpixel((i, j)) else (d[2] - 1),)\n",
        "        c = c +1\n",
        "\n",
        "print(\"il numero dei canali è --> \" + str(Ncanali))\n",
        "im.save(root+ImgMarchio)"
      ],
      "execution_count": null,
      "outputs": [
        {
          "output_type": "stream",
          "text": [
            "289\n",
            "132\n",
            "(1080, 713)\n",
            "il numero dei canali è --> 4\n"
          ],
          "name": "stdout"
        }
      ]
    },
    {
      "cell_type": "code",
      "metadata": {
        "id": "oDPNrPLZTeam",
        "colab": {
          "base_uri": "https://localhost:8080/"
        },
        "outputId": "cac7477a-f3c4-44c0-8f12-be39d94fb066"
      },
      "source": [
        "#ImgMarchio = \"test.jpg\"\n",
        "im = Image.open(root+ImgOriginale)\n",
        "ImgRoma = im.load()\n",
        "im1 = Image.open(root+ImgMarchio)\n",
        "print(im1.getbands())\n",
        "ImgRoma1 = im1.load()\n",
        "print(ImgRoma1[0,0])\n",
        "#Controllo se le due immagini hanno lo stesso canale Alpha\n",
        "imghdr.what(root+ImgMarchio)\n",
        "if str(im1.getbands()) == \"('R', 'G', 'B', 'A')\":\n",
        "  alpha = True\n",
        "else: \n",
        "  alpha = False\n",
        "print(alpha)"
      ],
      "execution_count": null,
      "outputs": [
        {
          "output_type": "stream",
          "text": [
            "('R', 'G', 'B', 'A')\n",
            "(165, 179, 190, 255)\n",
            "True\n"
          ],
          "name": "stdout"
        }
      ]
    },
    {
      "cell_type": "code",
      "metadata": {
        "collapsed": true,
        "id": "V-qYEwUYCInJ",
        "colab": {
          "base_uri": "https://localhost:8080/"
        },
        "outputId": "1aad3494-1055-4c5c-b1a3-20731e79dfc4"
      },
      "source": [
        "#DECODIFICA\n",
        "from PIL import Image\n",
        "from sys import argv\n",
        "from qrcode import make as makeQR \n",
        "\n",
        "if __name__ == '__main__':\n",
        "    #nome_img = input('inserire il nome immagine con marchio ') #per non toccare sempre il codice inserire il nome dell'immagine con il marchio\n",
        "    im = Image.open(root+ImgMarchio) #immagine con marchio \n",
        "    imd = im.load()\n",
        "    imo = Image.open(root+ImgOriginale) #immagine originale\n",
        "    imdo = imo.load()\n",
        "    s = w, h = im.size\n",
        "    oim = Image.new('1',s) #crea un immagine completamente nera RICORDA --> 0 = NERO 255 = BIANCO\n",
        "    oimd = oim.load() #immagine nuova\n",
        "    \n",
        "\n",
        "    for i in range(w): #w\n",
        "        for j in range(h): #h\n",
        "            if alpha: #caso in cui usiamo immagini che supportano la trasparenza (png)\n",
        "              d = imd[i, j] # immagine con marchio \n",
        "              orig = imdo[i,j] # immagine originale\n",
        "              if (d[0] == orig[0]) and (d[1] == orig[1]) and (d[2] == orig[2]) and (d[3] == orig[3]):\n",
        "                oimd[i, j] = 255\n",
        "              else:\n",
        "                oimd[i, j] = 0\n",
        "\n",
        "            else: # caso in chi usiamo formati a soli tre canali (jpg)\n",
        "              d = ImgRoma1[i, j] # immagine con marchio \n",
        "              orig = ImgRoma[i,j] \n",
        "              if ((d[0] == orig[0]) and (d[1] == orig[1]) and (d[2] == orig[2])):\n",
        "                oimd[i, j] = 255\n",
        "              else:\n",
        "                oimd[i, j] = 0\n",
        "              \n",
        "#salvataggio della decodifica, in questa immagine trovo il QRCODE\n",
        "if alpha:\n",
        "  oim.save(root+'imgDecodificataRGB.png')\n",
        "else:\n",
        "  oim.save(root+'imgDecodificataRGB.jpg')\n",
        "\n",
        "print(\"l'immagine originale è --> \"+ ImgOriginale)\n",
        "print(\"l'immagine con marchio è --> \"+ ImgMarchio)"
      ],
      "execution_count": null,
      "outputs": [
        {
          "output_type": "stream",
          "text": [
            "l'immagine originale è --> Roma.png\n",
            "l'immagine con marchio è --> watermarking_terzo_metodo_tagliata.png\n"
          ],
          "name": "stdout"
        }
      ]
    },
    {
      "cell_type": "code",
      "metadata": {
        "id": "oymAv0fJMWFh",
        "colab": {
          "base_uri": "https://localhost:8080/"
        },
        "outputId": "1dbaac31-c45b-493b-bbc8-0f01b90fbedb"
      },
      "source": [
        "value = PSNR(root+ImgOriginale, root+ImgMarchio)\n",
        "print(f\"PSNR value is {value} dB\")"
      ],
      "execution_count": null,
      "outputs": [
        {
          "output_type": "stream",
          "text": [
            "PSNR value is 73.77374351472807 dB\n"
          ],
          "name": "stdout"
        }
      ]
    }
  ]
}